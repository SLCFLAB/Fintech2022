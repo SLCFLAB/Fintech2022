{
 "cells": [
  {
   "cell_type": "markdown",
   "id": "7a467ba2",
   "metadata": {},
   "source": [
    "# 알고리즘 트레이딩 실습 2"
   ]
  },
  {
   "cell_type": "markdown",
   "id": "36cfe174",
   "metadata": {},
   "source": [
    "<a href=\"https://colab.research.google.com/github/SLCFLAB/Fintech2022/blob/main/AT_Day2.ipynb\" target=\"_parent\"><img src=\"https://colab.research.google.com/assets/colab-badge.svg\" alt=\"Open In Colab\"/></a>"
   ]
  },
  {
   "cell_type": "markdown",
   "id": "bc514c7c",
   "metadata": {},
   "source": [
    "## 실습 1 복습"
   ]
  },
  {
   "cell_type": "code",
   "execution_count": null,
   "id": "ec85b1d4",
   "metadata": {},
   "outputs": [],
   "source": [
    "!pip install -U finance-datareader"
   ]
  },
  {
   "cell_type": "code",
   "execution_count": null,
   "id": "45bc6310",
   "metadata": {},
   "outputs": [],
   "source": [
    "!pip install -U cvxopt"
   ]
  },
  {
   "cell_type": "code",
   "execution_count": null,
   "id": "d51b270e",
   "metadata": {},
   "outputs": [],
   "source": [
    "import FinanceDataReader as fdr\n",
    "print(fdr.__version__)\n",
    "import pandas as pd\n",
    "import matplotlib.pyplot as plt\n",
    "import numpy as np\n",
    "import cvxopt as opt\n",
    "from cvxopt import solvers"
   ]
  },
  {
   "cell_type": "markdown",
   "id": "0b53ffca",
   "metadata": {},
   "source": [
    "### To-Do\n",
    "\n",
    "다음의 조건에 해당하는 각 지수별 price data를 pandas의 DataFrame 형태로 생성하고 a라는 이름으로 선언하시오.      \n",
    "https://financedata.github.io/posts/finance-data-reader-users-guide.html\n",
    "* 조건 1: 각 row의 인덱스는 날짜, 각 컬럼은 KOSPI200 지수, S&P500 지수, 나스닥 지수, 닛케이225 선물, USD/KRW로 구성.\n",
    "* 조건 2: 종가 기준, 기간은 2010년 이후 현재까지."
   ]
  },
  {
   "cell_type": "code",
   "execution_count": null,
   "id": "051ef6ca",
   "metadata": {},
   "outputs": [],
   "source": []
  },
  {
   "cell_type": "markdown",
   "id": "71b4b005",
   "metadata": {},
   "source": [
    "### Efficient Frontier 구하기"
   ]
  },
  {
   "cell_type": "code",
   "execution_count": null,
   "id": "c937eab4",
   "metadata": {},
   "outputs": [],
   "source": [
    "holding_periods=1\n",
    "n_term=252 # dailiy return을 annualize\n",
    "data = a\n",
    "\n",
    "returns = data.pct_change(holding_periods).iloc[holding_periods:] # holding period return vector\n",
    "exp_rets = returns.mean() * n_term # average return -- > APR(annual percentage rate)\n",
    "cov_mat = returns.cov() * n_term # covariance\n",
    "corr_mat = returns.corr() # corr"
   ]
  },
  {
   "cell_type": "code",
   "execution_count": null,
   "id": "48a90cc0",
   "metadata": {},
   "outputs": [],
   "source": [
    "plt.matshow(corr_mat)\n",
    "plt.show()"
   ]
  },
  {
   "cell_type": "code",
   "execution_count": null,
   "id": "d9f9efc3",
   "metadata": {},
   "outputs": [],
   "source": [
    "import seaborn as sns\n",
    "\n",
    "sns.heatmap(corr_mat)"
   ]
  },
  {
   "cell_type": "markdown",
   "id": "d25a5217",
   "metadata": {},
   "source": [
    "Mean Variance Portfolio를 구성"
   ]
  },
  {
   "cell_type": "code",
   "execution_count": null,
   "id": "0a620f20",
   "metadata": {},
   "outputs": [],
   "source": [
    "def mean_var_portfolio(cov_mat, exp_rets, target_ret):\n",
    "    \n",
    "    n = len(cov_mat)\n",
    "\n",
    "    # Objective function\n",
    "    # min (1/2)*w.T*P*w\n",
    "    P = opt.matrix(cov_mat.values) \n",
    "    q = opt.matrix(0.0, (n, 1))\n",
    "\n",
    "\n",
    "    # Constraints Gw <= h\n",
    "    # exp_rets*w >= target_ret and w >= 0\n",
    "    G = opt.matrix(np.vstack((-exp_rets.values, -np.identity(n))))\n",
    "    h = opt.matrix(np.vstack((-target_ret, np.zeros((n, 1)))))\n",
    "\n",
    "    # Constraints Aw = b\n",
    "    # sum(w) = 1\n",
    "    A = opt.matrix(1.0, (1, n))\n",
    "    b = opt.matrix(1.0)\n",
    "\n",
    "    # Solve\n",
    "    solvers.options['show_progress'] = False\n",
    "    sol = solvers.qp(P, q, G, h, A, b)\n",
    "\n",
    "    # Put weights into a labeled series\n",
    "    w = pd.Series(sol['x'], index=cov_mat.index)\n",
    "\n",
    "    return w"
   ]
  },
  {
   "cell_type": "code",
   "execution_count": null,
   "id": "30d11bc3",
   "metadata": {},
   "outputs": [],
   "source": [
    "max_risk=0.5\n",
    "max_ret = exp_rets.max()\n",
    "min_ret = exp_rets[exp_rets > 0].min()\n",
    "\n",
    "n_step = 100\n",
    "step_diff = (max_ret - min_ret)/n_step\n",
    "\n",
    "risks = []\n",
    "rets = []\n",
    "\n",
    "for step in range(0, n_step+1):\n",
    "    target_ret = min_ret + (step * step_diff) # y축을 아래부터 시작해서 위로 조금씩 올려가면서\n",
    "    _w = mean_var_portfolio(cov_mat, exp_rets, target_ret) # 최적화를 돌려서 나온 _w임.\n",
    "    risk = np.sqrt(np.dot(np.dot(_w, cov_mat), _w))\n",
    "\n",
    "    if risk > max_risk:\n",
    "        break\n",
    "\n",
    "    risks.append(risk)\n",
    "    ret = np.dot(exp_rets, _w)\n",
    "    rets.append(ret)"
   ]
  },
  {
   "cell_type": "code",
   "execution_count": null,
   "id": "cdb60cf3",
   "metadata": {},
   "outputs": [],
   "source": [
    "plt.plot(risks, rets)\n",
    "plt.show()"
   ]
  },
  {
   "cell_type": "code",
   "execution_count": null,
   "id": "fe3e3c41",
   "metadata": {},
   "outputs": [],
   "source": [
    "plt.plot(risks, rets)\n",
    "\n",
    "var = np.diag(cov_mat)\n",
    "plt.scatter(np.sqrt(var), exp_rets)\n",
    "\n",
    "plt.show()"
   ]
  },
  {
   "cell_type": "markdown",
   "id": "4f85391c",
   "metadata": {},
   "source": [
    "### To-do"
   ]
  },
  {
   "cell_type": "markdown",
   "id": "11eefdac",
   "metadata": {},
   "source": [
    "개미투자자 A는 인덱스에 투자하는 것보다 개별 종목에 투자하는 것을 선호한다. 한국 주식보다는 미국 주식에 투자하는 것을 선호하는 A는 평소 Warren Buffett을 굉장히 존경해왔다고 한다. 최근 뉴스를 보고 Buffett이 관심을 가졌던 주식들을 파악한 A는 다음과 같은 회사들로 포트폴리오를 구성하려 한다.\n",
    "* Apple\n",
    "* Occidental Petroleum\n",
    "* Coca Cola\n",
    "* Exxon Mobil\n",
    "* Microsoft\n",
    "\n",
    "하지만 주변 사람들의 조언을 들어본 결과, 주식으로만 포트폴리오를 구성하는 것은 위험하다고 판단이 든 A는 자신의 포트폴리오에 금(선물)을 포함하기로 결정했다. 총 6개의 종목으로 포트폴리오를 구성한 A에게 도움을 주기 위한 Efficient Frontier를 그려보자"
   ]
  },
  {
   "cell_type": "markdown",
   "id": "05237b38",
   "metadata": {},
   "source": [
    "위의 조건에 해당하는 종목들에 대하여 2016년 이후 종가기준으로 dataframe을 생성하고 Efficient Frontier를 그려보시오."
   ]
  },
  {
   "cell_type": "code",
   "execution_count": null,
   "id": "e51dd2c5",
   "metadata": {},
   "outputs": [],
   "source": []
  },
  {
   "cell_type": "code",
   "execution_count": null,
   "id": "f694ab05",
   "metadata": {},
   "outputs": [],
   "source": []
  },
  {
   "cell_type": "code",
   "execution_count": null,
   "id": "69492743",
   "metadata": {},
   "outputs": [],
   "source": []
  },
  {
   "cell_type": "markdown",
   "id": "dee1ed73",
   "metadata": {},
   "source": [
    "## 최소 분산 포트폴리오\n",
    "![](https://ift.world/wp-content/uploads/2018/06/wsi-imageoptim-1-1.png)"
   ]
  },
  {
   "cell_type": "markdown",
   "id": "0b63404f",
   "metadata": {},
   "source": [
    "**최소 분산 포트폴리오** : 자산들로 구성되는 포트폴리오 중 최소 분산을 갖는 포트폴리오.    \n",
    "Efficient Frontier 상에서 분산이 가장 작은 점이 된다."
   ]
  },
  {
   "cell_type": "markdown",
   "id": "d3081d3e",
   "metadata": {},
   "source": [
    "### To-Do"
   ]
  },
  {
   "cell_type": "markdown",
   "id": "9c654f17",
   "metadata": {},
   "source": [
    "#### A. 앞서 구한 Efficient Frontier를 바탕으로, Efficient frontier 상에서 variance가 가장 작은 점을 구하시오. "
   ]
  },
  {
   "cell_type": "code",
   "execution_count": null,
   "id": "a4cb6ec2",
   "metadata": {},
   "outputs": [],
   "source": [
    "# Efficient Frontier\n",
    "\n",
    "max_risk=0.5\n",
    "max_ret = exp_rets.max()\n",
    "min_ret = exp_rets[exp_rets > 0].min()\n",
    "\n",
    "n_step = 1000\n",
    "step_diff = (max_ret - min_ret)/n_step\n",
    "\n",
    "risks = []\n",
    "rets = []\n",
    "weights = []\n",
    "\n",
    "for step in range(n_step):\n",
    "    target_ret = min_ret + (step * step_diff) # y축을 아래부터 시작해서 위로 조금씩 올려가면서\n",
    "    _w = mean_var_portfolio(cov_mat, exp_rets, target_ret) # 최적화를 돌려서 나온 _w임.\n",
    "    risk = np.sqrt(np.dot(np.dot(_w, cov_mat), _w))\n",
    "\n",
    "    if risk > max_risk:\n",
    "        break\n",
    "    \n",
    "    risks.append(risk)\n",
    "    ret = np.dot(exp_rets, _w)\n",
    "    rets.append(ret)\n",
    "    weights.append(_w)\n",
    "\n",
    "min_risk_idx = ??"
   ]
  },
  {
   "cell_type": "markdown",
   "id": "f325e08b",
   "metadata": {},
   "source": [
    "#### B. 구한 minimum variance portfolio의 risk, return, portfolio weight를 프린트하시오."
   ]
  },
  {
   "cell_type": "code",
   "execution_count": null,
   "id": "8e6fcfd0",
   "metadata": {},
   "outputs": [],
   "source": [
    "min_risk_idx = ??\n",
    "min_risk = ??\n",
    "min_risk_ret = ??\n",
    "min_risk_weight = ??\n",
    "print(\"Risk of minimum variance portfolio : \", min_risk)\n",
    "print(\"Return of minimum variance portfolio : \", min_risk_ret)\n",
    "print(\"Weight of minimum variance portfolio : \")\n",
    "print(min_risk_weight)"
   ]
  },
  {
   "cell_type": "markdown",
   "id": "31f9b052",
   "metadata": {},
   "source": [
    "#### C. Efficient frontier와 Minimum variance portfolio를 plotting하시오."
   ]
  },
  {
   "cell_type": "code",
   "execution_count": null,
   "id": "6a00bfe4",
   "metadata": {},
   "outputs": [],
   "source": []
  },
  {
   "cell_type": "markdown",
   "id": "c992d83e",
   "metadata": {},
   "source": [
    "## 탄젠시 포트폴리오(Tangency Portfolio)\n",
    "\n",
    "![](https://www.researchgate.net/profile/Teodosii_Rachev/publication/24071755/figure/fig2/AS:667097013161996@1536059730503/The-Efficient-frontier-and-the-tangent-portfolio.png)"
   ]
  },
  {
   "cell_type": "markdown",
   "id": "ef5b2795",
   "metadata": {},
   "source": [
    "앞서서는 주어진 자산들로 구성되는 포트폴리오들을 분석하여 efficient frontier를 구하고, minimum variance portfolio를 구하는 방법을 살펴보았다.     \n",
    "이제 앞선 구성자산들에 더하여, risk-free asset이 존재할 시 어떤 portfolio들을 만들 수 있는 지 알아보자.\n",
    "* Risk free asset : 한국의 경우 국고채 3년 금리 사용 --> 1%\n",
    "* Efficient frontier 상의 포트폴리오 중, Sharpe ratio가 가장 큰 포트폴리오 --> Tangency portfolio"
   ]
  },
  {
   "cell_type": "markdown",
   "id": "87518051",
   "metadata": {},
   "source": [
    "### To-Do"
   ]
  },
  {
   "cell_type": "markdown",
   "id": "879c3d5b",
   "metadata": {},
   "source": [
    "#### 앞서 구한 Efficient Frontier를 바탕으로, Efficient frontier 상에서 Sharpe ratio가 가장 커지는 tangency portfolio 점을 구하시오."
   ]
  },
  {
   "cell_type": "code",
   "execution_count": null,
   "id": "c6673b8f",
   "metadata": {},
   "outputs": [],
   "source": [
    "# Efficient Frontier\n",
    "\n",
    "max_risk=0.5\n",
    "max_ret = exp_rets.max()\n",
    "min_ret = exp_rets[exp_rets > 0].min()\n",
    "\n",
    "n_step = 100\n",
    "step_diff = (max_ret - min_ret)/n_step\n",
    "\n",
    "risks = []\n",
    "rets = []\n",
    "weights = []\n",
    "\n",
    "for step in range(n_step):\n",
    "    target_ret = min_ret + (step * step_diff) # y축을 아래부터 시작해서 위로 조금씩 올려가면서\n",
    "    _w = mean_var_portfolio(cov_mat, exp_rets, target_ret) # 최적화를 돌려서 나온 _w임.\n",
    "    risk = np.sqrt(np.dot(np.dot(_w, cov_mat), _w))\n",
    "\n",
    "    if risk > max_risk:\n",
    "        break\n",
    "    \n",
    "    risks.append(risk)\n",
    "    ret = np.dot(exp_rets, _w)\n",
    "    rets.append(ret)\n",
    "    weights.append(_w)\n",
    "\n",
    "\n",
    "rf_rate = 0.01\n",
    "\n",
    "slopes = []\n",
    "\n",
    "# ToDo\n",
    "### slopes list에 기울기 추가\n",
    "### max_tangency_idx, max_tangency 구하기"
   ]
  },
  {
   "cell_type": "markdown",
   "id": "91cd9d66",
   "metadata": {},
   "source": [
    "#### a) 구한 tangency portfolio의 risk, return, sharpe ratio, portfolio weight를 프린트하시오."
   ]
  },
  {
   "cell_type": "code",
   "execution_count": null,
   "id": "674c24d4",
   "metadata": {},
   "outputs": [],
   "source": [
    "max_tangency_risk = ??\n",
    "max_tangency_return = ??\n",
    "max_tangency_weight = ??"
   ]
  },
  {
   "cell_type": "markdown",
   "id": "0f353282",
   "metadata": {},
   "source": [
    "#### b) tangency portfolio와 risk-free rate를 연결한 직선과, efficint frontier를 plotting 하시오"
   ]
  },
  {
   "cell_type": "code",
   "execution_count": null,
   "id": "7781fee6",
   "metadata": {},
   "outputs": [],
   "source": []
  },
  {
   "cell_type": "code",
   "execution_count": null,
   "id": "bb85705b",
   "metadata": {},
   "outputs": [],
   "source": []
  },
  {
   "cell_type": "markdown",
   "id": "2fe7d7d1",
   "metadata": {},
   "source": [
    "## 백테스팅(Backtesting)"
   ]
  },
  {
   "cell_type": "markdown",
   "id": "076724c9",
   "metadata": {},
   "source": [
    "우리가 세운 전략을 **실제로 historical data에 적용**하면 어떻게 되는가?    \n",
    "먼저 생각해야 할 것.\n",
    "1) 이전 몇 달 치의 데이터를 사용하여 Tangency portfolio weight를 구성할 것인가? (Lookback period)    \n",
    "2) **리밸런싱**을 얼마의 주기로 할 것인가?"
   ]
  },
  {
   "cell_type": "markdown",
   "id": "a7498896",
   "metadata": {},
   "source": [
    "### 5개 asset으로 tangency portfolio를 구성하는 backtesting"
   ]
  },
  {
   "cell_type": "markdown",
   "id": "5e4a3dd2",
   "metadata": {},
   "source": [
    "* A) 리밸런싱 시점에서 tangency portfolio를 구성할 때, 이전 6달(120일)의 데이터를 바탕으로 만든다.\n",
    "* B) 리밸런싱은 3달(60일) 1분기마다 진행한다.\n",
    "* C) return과 covariance를 구할 때는 월평균으로 구하여 연평균 수익률로 변화시켜준다.\n",
    "* D) 시작 자산은 10000원에서 시작하여, 각 날짜마다 portfolio value가 어떻게 되는 지를 구한다."
   ]
  },
  {
   "cell_type": "code",
   "execution_count": null,
   "id": "4d8f5273",
   "metadata": {},
   "outputs": [],
   "source": [
    "data = a['2015-01-01':]"
   ]
  },
  {
   "cell_type": "code",
   "execution_count": null,
   "id": "2f43bb77",
   "metadata": {},
   "outputs": [],
   "source": [
    "def create_data(data):\n",
    "    \n",
    "    result = data.pct_change(20).iloc[20:]\n",
    "    \n",
    "    returns = result\n",
    "    avg_rets = returns.mean()*12\n",
    "    cov_mat = returns.cov()*12\n",
    "\n",
    "    return returns, cov_mat, avg_rets"
   ]
  },
  {
   "cell_type": "code",
   "execution_count": null,
   "id": "d46562c1",
   "metadata": {},
   "outputs": [],
   "source": [
    "def mean_var_portfolio(cov_mat, exp_rets, target_ret):\n",
    "    \n",
    "    n = len(cov_mat)\n",
    "\n",
    "    # Objective function\n",
    "    # min (1/2)*w.T*P*w\n",
    "    P = opt.matrix(cov_mat.values) \n",
    "    q = opt.matrix(0.0, (n, 1))\n",
    "\n",
    "\n",
    "    # Constraints Gw <= h\n",
    "    # exp_rets*w >= target_ret and w >= 0\n",
    "    G = opt.matrix(np.vstack((-exp_rets.values, -np.identity(n))))\n",
    "    h = opt.matrix(np.vstack((-target_ret, np.zeros((n, 1)))))\n",
    "\n",
    "    # Constraints Aw = b\n",
    "    # sum(w) = 1\n",
    "    A = opt.matrix(1.0, (1, n))\n",
    "    b = opt.matrix(1.0)\n",
    "\n",
    "    # Solve\n",
    "    solvers.options['show_progress'] = False\n",
    "    sol = solvers.qp(P, q, G, h, A, b)\n",
    "\n",
    "    # Put weights into a labeled series\n",
    "    w = pd.Series(sol['x'], index=cov_mat.index)\n",
    "\n",
    "    return w"
   ]
  },
  {
   "cell_type": "code",
   "execution_count": null,
   "id": "bff0f8b6",
   "metadata": {},
   "outputs": [],
   "source": [
    "def tangency_portfolio(cov_mat, exp_rets, target_ret, min_rets, max_rets, rf_rate = 0.01):\n",
    "    \n",
    "    n = len(cov_mat)\n",
    "    P = opt.matrix(cov_mat.values)\n",
    "    q = opt.matrix(0.0, (n, 1))\n",
    "    \n",
    "    tangency_queue = []\n",
    "    weights_queue = []\n",
    "    return_queue = []\n",
    "    cov_queue = []\n",
    "    \n",
    "    step = (max_rets - min_rets)/100\n",
    "    for i in range(100):\n",
    "                \n",
    "        try:\n",
    "        \n",
    "            target_ret = min_rets + (i * step)\n",
    "\n",
    "            # Constraints Gx <= h\n",
    "\n",
    "            G = opt.matrix(np.vstack((-exp_rets.values, -np.identity(n))))\n",
    "            h = opt.matrix(np.vstack((-target_ret, np.zeros((n, 1)))))\n",
    "\n",
    "            # Constraints Ax = b\n",
    "            # sum(x) = 1\n",
    "            A = opt.matrix(1.0, (1, n))\n",
    "            b = opt.matrix(1.0)\n",
    "\n",
    "            solvers.options['show_progress'] = False\n",
    "            sol = solvers.qp(P, q, G, h, A, b)\n",
    "\n",
    "            if sol['status'] != 'optimal':\n",
    "                pass\n",
    "\n",
    "            # Put weights into a labeled series\n",
    "            weights = pd.Series(sol['x'], index=cov_mat.index)\n",
    "            \n",
    "            tangency_ = (np.dot(exp_rets, weights) - rf_rate) / np.sqrt(np.dot(np.dot(weights, cov_mat), weights))\n",
    "            tangency_queue.append(tangency_)\n",
    "            weights_queue.append(weights)\n",
    "            return_queue.append(np.dot(exp_rets, weights))\n",
    "            cov_queue.append(np.sqrt(np.dot(np.dot(weights, cov_mat), weights)))\n",
    "        \n",
    "        except:\n",
    "            pass\n",
    "\n",
    "    \n",
    "    tan_index = tangency_queue.index(max(tangency_queue))\n",
    "    \n",
    "    weights = weights_queue[tan_index]\n",
    "\n",
    "    return weights"
   ]
  },
  {
   "cell_type": "code",
   "execution_count": null,
   "id": "e32a81e8",
   "metadata": {},
   "outputs": [],
   "source": [
    "data = data.dropna()"
   ]
  },
  {
   "cell_type": "code",
   "execution_count": null,
   "id": "7068a9a1",
   "metadata": {},
   "outputs": [],
   "source": [
    "ret = data.pct_change().iloc[1:]"
   ]
  },
  {
   "cell_type": "code",
   "execution_count": null,
   "id": "9431eca0",
   "metadata": {},
   "outputs": [],
   "source": [
    "data.shape"
   ]
  },
  {
   "cell_type": "code",
   "execution_count": null,
   "id": "58a0fb4a",
   "metadata": {},
   "outputs": [],
   "source": [
    "def back_test(data, ret):\n",
    "\n",
    "    # Window_size는 tangency portfolio를 구할 때 이전 몇 달의 데이터를 사용할 것인지 나타낸다.\n",
    "    total_days = data.shape[0]\n",
    "    \n",
    "    # Rebalancing을 한 달마다 진행하는 경우, 'M'으로 rebalance_period는 20이 된다.\n",
    "    rebalance_period = 60 # 3개월에 한번 = 분기당 한번\n",
    "    window_size = 120 # 지난 6개월\n",
    "\n",
    "    returns, cov_mat, avg_rets= create_data(data)\n",
    "    \n",
    "    # n_rebalance : 총 몇 번의 리밸런싱을 하게 되는지?\n",
    "    n_rebalance = (total_days - window_size) // rebalance_period\n",
    "    w = []\n",
    "    rebalancing_date=[]\n",
    "    original_weights = []\n",
    "    \n",
    "    rebal = 60\n",
    "    for i in range(window_size, total_days):\n",
    "        # 리밸런싱을 할 때 마다 Tangency portfolio weight를 새로 구해야 한다.\n",
    "        # 이때 리밸런싱 시점 이전의 총 120일 간의 데이터를 사용한다.\n",
    "        \n",
    "        if rebal % rebalance_period == 0:\n",
    "            #print('rebalance')\n",
    "            _returns, _cov_mat, _avg_rets= create_data(data[(i-window_size):i])\n",
    "            rebalancing_date.append(data.index[i:i+1]) # rebalance_period 씩 늘려가자\n",
    "            rebal = 0\n",
    "            _target_ret = _avg_rets.quantile(0.7)\n",
    "            _min_ret = _avg_rets.min()\n",
    "            _max_ret = _avg_rets.max()\n",
    "            _w = tangency_portfolio(_cov_mat, _avg_rets, _target_ret, _min_ret, _max_ret)\n",
    "            print(n_rebalance)\n",
    "            n_rebalance = n_rebalance - 1\n",
    "            print(_w)\n",
    "            _w.plot.bar()\n",
    "            plt.show()\n",
    "            plt.close()\n",
    "            _w = np.asarray(_w.values) #np.array([0.0, 0.0, 1.0, 0.0, 0.0])\n",
    "            w.append(_w)\n",
    "            \n",
    "\n",
    "        rebal = rebal + 1\n",
    "        \n",
    "    \n",
    "    price = data\n",
    "    price = np.array(price)\n",
    "    \n",
    "    port = [] # 여기에 날마다 변하는 Portfolio value를 저장한다.\n",
    "    port_date = [] # 여기에 portfolio의 data를 저장한다.\n",
    "    portfolio_value = 10000\n",
    "    port_each_money = [] # 그 날의 portfolio의 구성이다. Ex) 만약 Asset1에 6000원, Asset2에 4000원, 나머지에 0원이 있다면 [6000, 4000, 0, 0, 0]이 된다.\n",
    "    \n",
    "    rebal = 60\n",
    "    j = 0\n",
    "    for i in range(window_size, total_days):\n",
    "        \n",
    "        if i == window_size: # 초기화\n",
    "            port_each_money = portfolio_value * w[j]\n",
    "            rebal = 1\n",
    "            # port_each_money 값을 다 더한 게 그 날의 portfolio_value가 된다.\n",
    "            portfolio_value = port_each_money.sum()\n",
    "            # port에 portfolio_value를 저장하여 준다.\n",
    "            port.append(portfolio_value)\n",
    "            j = j+1\n",
    "\n",
    "\n",
    "        else:\n",
    "            #각 날마다 자산의 가격이 바뀌므로, port_each_money 변화한다.\n",
    "            port_each_money = port_each_money * (1+ret.iloc[i])\n",
    "            portfolio_value = port_each_money.sum()\n",
    "            if rebal % rebalance_period == 0:\n",
    "                rebal = 0\n",
    "                # 리밸런싱을 하는 날이다. Portfolio value를 새로운 tangency portfolio weight로 맞춰준다.\n",
    "                port_each_money = portfolio_value * w[j]\n",
    "                # port_weight의 값을 다 더한 게 그 날의 portfolio_value가 된다.\n",
    "                portfolio_value = port_each_money.sum()\n",
    "                # port에 portfolio_value를 저장하여 준다.\n",
    "                port.append(portfolio_value)\n",
    "                j = j+1\n",
    "            \n",
    "            else:\n",
    "                # 리밸런싱 날짜가 아닌 평범함 날짜. \n",
    "                # port_each_money 값을 다 더한 게 그 날의 portfolio_value가 된다.\n",
    "                portfolio_value = port_each_money.sum()\n",
    "                # port에 portfolio_value를 저장하여 준다.\n",
    "                port.append(portfolio_value)\n",
    "            \n",
    "        rebal = rebal + 1\n",
    "        port_date.append(data.index[i:i+1][0])\n",
    "    \n",
    "    portfolio = pd.DataFrame(port, columns = ['portfolio_value'], index = port_date)\n",
    "    \n",
    "    return w, portfolio, rebalancing_date"
   ]
  },
  {
   "cell_type": "code",
   "execution_count": null,
   "id": "5f767096",
   "metadata": {},
   "outputs": [],
   "source": [
    "data"
   ]
  },
  {
   "cell_type": "code",
   "execution_count": null,
   "id": "b2a206d9",
   "metadata": {},
   "outputs": [],
   "source": [
    "ret"
   ]
  },
  {
   "cell_type": "code",
   "execution_count": null,
   "id": "2a41475d",
   "metadata": {
    "scrolled": false
   },
   "outputs": [],
   "source": [
    "w, portfolio, rebalancing_date = back_test(data[1:], ret)"
   ]
  },
  {
   "cell_type": "code",
   "execution_count": null,
   "id": "73dea2b0",
   "metadata": {},
   "outputs": [],
   "source": [
    "portfolio.plot()"
   ]
  },
  {
   "cell_type": "code",
   "execution_count": null,
   "id": "fdf0817f",
   "metadata": {},
   "outputs": [],
   "source": [
    "# Backtest Result Plotting\n",
    "plt.plot(portfolio, label=\"portfolio\")\n",
    "\n",
    "for symbol in ['KS200', 'US500', 'IXIC', 'JP225', 'USD/KRW']:\n",
    "    plt.plot(data[121:][symbol] * 10000 / data[121:][symbol][0], label='{}'.format(symbol))\n",
    "\n",
    "plt.legend()\n",
    "plt.show()"
   ]
  },
  {
   "cell_type": "markdown",
   "id": "598a96f2",
   "metadata": {},
   "source": [
    "### To-Do"
   ]
  },
  {
   "cell_type": "markdown",
   "id": "f25dd430",
   "metadata": {},
   "source": [
    "#### 앞서 구한 리밸런싱 포트폴리오의 Sharpe ratio를 plot 하시오."
   ]
  },
  {
   "cell_type": "code",
   "execution_count": null,
   "id": "9998530f",
   "metadata": {},
   "outputs": [],
   "source": []
  },
  {
   "cell_type": "markdown",
   "id": "47bf7c4d",
   "metadata": {},
   "source": [
    "## Backtest with A's portfolio"
   ]
  },
  {
   "cell_type": "markdown",
   "id": "9aa840aa",
   "metadata": {},
   "source": [
    "다른 포트폴리오 유니버스에 대한 백테스팅을 진행해보자. 앞서 생성한 투자자 A의 데이터프레임을 바탕으로 동일한 전략에 대한 백테스팅을 진행해보자. 최종적인 시간에 따른 수익 변화를 plot하시오."
   ]
  },
  {
   "cell_type": "code",
   "execution_count": null,
   "id": "2c9ac4a8",
   "metadata": {},
   "outputs": [],
   "source": []
  },
  {
   "cell_type": "code",
   "execution_count": null,
   "id": "d2406da9",
   "metadata": {},
   "outputs": [],
   "source": []
  },
  {
   "cell_type": "code",
   "execution_count": null,
   "id": "a0a0f855",
   "metadata": {},
   "outputs": [],
   "source": []
  },
  {
   "cell_type": "code",
   "execution_count": null,
   "id": "fe6414aa",
   "metadata": {},
   "outputs": [],
   "source": []
  },
  {
   "cell_type": "markdown",
   "id": "87def9e7",
   "metadata": {},
   "source": [
    "Final Value of Portfolio"
   ]
  },
  {
   "cell_type": "code",
   "execution_count": null,
   "id": "7a0dcf98",
   "metadata": {},
   "outputs": [],
   "source": []
  },
  {
   "cell_type": "markdown",
   "id": "b48780e5",
   "metadata": {},
   "source": [
    "### To-Do"
   ]
  },
  {
   "cell_type": "markdown",
   "id": "25f968e5",
   "metadata": {},
   "source": [
    "더 좋은 전략이 있을까요? 더 좋은 전략을 구상하시고 백테스팅을 진행해보세요!"
   ]
  }
 ],
 "metadata": {
  "kernelspec": {
   "display_name": "finance_env",
   "language": "python",
   "name": "finance_env"
  },
  "language_info": {
   "codemirror_mode": {
    "name": "ipython",
    "version": 3
   },
   "file_extension": ".py",
   "mimetype": "text/x-python",
   "name": "python",
   "nbconvert_exporter": "python",
   "pygments_lexer": "ipython3",
   "version": "3.7.11"
  }
 },
 "nbformat": 4,
 "nbformat_minor": 5
}
