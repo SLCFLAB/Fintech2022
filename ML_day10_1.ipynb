{
 "cells": [
  {
   "cell_type": "markdown",
   "id": "9c57a101",
   "metadata": {},
   "source": [
    "# Methods to Improve models"
   ]
  },
  {
   "cell_type": "markdown",
   "id": "0112d8da",
   "metadata": {},
   "source": [
    "colab에서 열기: https://colab.research.google.com/github/SLCFLAB/Fintech2022/blob/main/ML_day10.ipynb"
   ]
  },
  {
   "cell_type": "code",
   "execution_count": 1,
   "id": "28476a5d",
   "metadata": {},
   "outputs": [],
   "source": [
    "import torch\n",
    "import torch.nn as nn\n",
    "import torch.optim as optim\n",
    "from torch.utils.data import DataLoader\n",
    "\n",
    "import torchvision.utils\n",
    "import torchvision.datasets as dsets\n",
    "import torchvision.transforms as transforms\n",
    "\n",
    "import numpy as np\n",
    "import random\n",
    "import os\n",
    "\n",
    "import matplotlib.pyplot as plt\n",
    "%matplotlib inline"
   ]
  },
  {
   "cell_type": "markdown",
   "id": "f3be5262",
   "metadata": {},
   "source": [
    "## Load data"
   ]
  },
  {
   "cell_type": "code",
   "execution_count": 2,
   "id": "68ecb96b",
   "metadata": {},
   "outputs": [],
   "source": [
    "train_data = dsets.MNIST(root='data/',\n",
    "                         train=True,\n",
    "                         transform=transforms.ToTensor(),\n",
    "                         download=True)\n",
    "\n",
    "test_data = dsets.MNIST(root='data/',\n",
    "                        train=False,\n",
    "                        transform=transforms.ToTensor(),\n",
    "                        download=True)"
   ]
  },
  {
   "cell_type": "code",
   "execution_count": 3,
   "id": "e0d0747d",
   "metadata": {},
   "outputs": [],
   "source": [
    "batch_size = 100 # 한번에 할 연산량\n",
    "\n",
    "train_loader = DataLoader(dataset=train_data,\n",
    "                          batch_size=batch_size,\n",
    "                          shuffle=True)\n",
    "\n",
    "test_loader = DataLoader(dataset=test_data,\n",
    "                         batch_size=batch_size,\n",
    "                         shuffle=False)"
   ]
  },
  {
   "cell_type": "markdown",
   "id": "694f4568",
   "metadata": {},
   "source": [
    "## Drop out"
   ]
  },
  {
   "cell_type": "markdown",
   "id": "f6009860",
   "metadata": {},
   "source": [
    "drop out과 batch normalize layer는 train할 때는 작동하지만, inference때는 작동하지 않기 때문에, inference 할 때는 model.eval()를 통해 inference 때 동작하지 않도록 만든다."
   ]
  },
  {
   "cell_type": "code",
   "execution_count": 4,
   "id": "66675217",
   "metadata": {},
   "outputs": [],
   "source": [
    "# nn layers\n",
    "linear1 = torch.nn.Linear(784, 512, bias=True)\n",
    "linear2 = torch.nn.Linear(512, 512, bias=True)\n",
    "linear3 = torch.nn.Linear(512, 512, bias=True)\n",
    "linear4 = torch.nn.Linear(512, 512, bias=True)\n",
    "linear5 = torch.nn.Linear(512, 10, bias=True)\n",
    "relu = torch.nn.ReLU()\n",
    "dropout = torch.nn.Dropout(p=0.1)"
   ]
  },
  {
   "cell_type": "code",
   "execution_count": 5,
   "id": "8d94e6c7",
   "metadata": {},
   "outputs": [],
   "source": [
    "# model\n",
    "model = torch.nn.Sequential(linear1, relu, dropout,\n",
    "                            linear2, relu, dropout,\n",
    "                            linear3, relu, dropout,\n",
    "                            linear4, relu, dropout,\n",
    "                            linear5).cuda()"
   ]
  },
  {
   "cell_type": "code",
   "execution_count": 6,
   "id": "70be971b",
   "metadata": {},
   "outputs": [],
   "source": [
    "loss = nn.CrossEntropyLoss()\n",
    "optimizer = optim.SGD(model.parameters(), lr=0.01)"
   ]
  },
  {
   "cell_type": "code",
   "execution_count": 7,
   "id": "95f24ace",
   "metadata": {},
   "outputs": [
    {
     "name": "stdout",
     "output_type": "stream",
     "text": [
      "Epoch: 0001 cost = 2.297901392\n",
      "Epoch: 0002 cost = 2.275900602\n",
      "Epoch: 0003 cost = 2.005052328\n",
      "Epoch: 0004 cost = 0.945786715\n",
      "Epoch: 0005 cost = 0.604985178\n",
      "Epoch: 0006 cost = 0.480596662\n",
      "Epoch: 0007 cost = 0.415942878\n",
      "Epoch: 0008 cost = 0.369540066\n",
      "Epoch: 0009 cost = 0.333335429\n",
      "Epoch: 0010 cost = 0.300353795\n",
      "Epoch: 0011 cost = 0.271818429\n",
      "Epoch: 0012 cost = 0.248090923\n",
      "Epoch: 0013 cost = 0.226623401\n",
      "Epoch: 0014 cost = 0.208310455\n",
      "Epoch: 0015 cost = 0.191368833\n",
      "Epoch: 0016 cost = 0.176847771\n",
      "Epoch: 0017 cost = 0.166522771\n",
      "Epoch: 0018 cost = 0.154115245\n",
      "Epoch: 0019 cost = 0.144841611\n",
      "Epoch: 0020 cost = 0.137235180\n",
      "Learning finished\n"
     ]
    }
   ],
   "source": [
    "total_batch = len(train_loader)\n",
    "model.train()    # set the model to train mode (dropout=True)\n",
    "for epoch in range(20):\n",
    "    avg_cost = 0\n",
    "\n",
    "    for X, Y in train_loader:\n",
    "        # reshape input image into [batch_size by 784]\n",
    "        # label is not one-hot encoded\n",
    "        X = X.view(-1, 28 * 28).cuda()\n",
    "        Y = Y.cuda()\n",
    "\n",
    "        optimizer.zero_grad()\n",
    "        hypothesis = model(X)\n",
    "        cost = loss(hypothesis, Y)\n",
    "        cost.backward()\n",
    "        optimizer.step()\n",
    "\n",
    "        avg_cost += cost / total_batch\n",
    "\n",
    "    print('Epoch:', '%04d' % (epoch + 1), 'cost =', '{:.9f}'.format(avg_cost))\n",
    "\n",
    "print('Learning finished')"
   ]
  },
  {
   "cell_type": "code",
   "execution_count": 8,
   "id": "0b33a18d",
   "metadata": {},
   "outputs": [
    {
     "name": "stdout",
     "output_type": "stream",
     "text": [
      "Accuracy: 0.9641\n"
     ]
    }
   ],
   "source": [
    "# Test model and check accuracy\n",
    "with torch.no_grad():\n",
    "    model.eval()    # set the model to evaluation mode (dropout=False)\n",
    "    accuracy = 0\n",
    "    for data, target in test_loader:\n",
    "        \n",
    "    # Test the model using test sets\n",
    "        X_test = data.view(-1, 28 * 28).cuda()\n",
    "        Y_test = target.cuda()\n",
    "\n",
    "        prediction = model(X_test)\n",
    "        correct_prediction = torch.argmax(prediction, 1) == Y_test\n",
    "        accuracy += correct_prediction.float().sum()\n",
    "    print('Accuracy:', accuracy.item()/len(test_loader.dataset))"
   ]
  },
  {
   "cell_type": "markdown",
   "id": "164a83d7",
   "metadata": {},
   "source": [
    "## Batch normalization"
   ]
  },
  {
   "cell_type": "code",
   "execution_count": 9,
   "id": "2f6df24c",
   "metadata": {},
   "outputs": [],
   "source": [
    " # nn layers\n",
    "linear1 = torch.nn.Linear(784, 32, bias=True) \n",
    "linear2 = torch.nn.Linear(32, 32, bias=True) \n",
    "linear3 = torch.nn.Linear(32, 10, bias=True) \n",
    "\n",
    "relu = torch.nn.ReLU()\n",
    "bn1 = torch.nn.BatchNorm1d(32)\n",
    "bn2 = torch.nn.BatchNorm1d(32)\n",
    "\n",
    "# model\n",
    "bn_model = torch.nn.Sequential(linear1, bn1, relu,\n",
    "                              linear2, bn2, relu,\n",
    "                              linear3).cuda()"
   ]
  },
  {
   "cell_type": "code",
   "execution_count": 10,
   "id": "8e5891d2",
   "metadata": {},
   "outputs": [],
   "source": [
    "bn_loss = nn.CrossEntropyLoss()\n",
    "bn_optimizer = optim.SGD(bn_model.parameters(), lr=0.01)"
   ]
  },
  {
   "cell_type": "code",
   "execution_count": 11,
   "id": "0e6caf28",
   "metadata": {
    "scrolled": true
   },
   "outputs": [
    {
     "name": "stdout",
     "output_type": "stream",
     "text": [
      "Epoch: 0001 cost = 0.948867857\n",
      "Epoch: 0002 cost = 0.370169938\n",
      "Epoch: 0003 cost = 0.266219616\n",
      "Epoch: 0004 cost = 0.215652913\n",
      "Epoch: 0005 cost = 0.187259838\n",
      "Epoch: 0006 cost = 0.166151226\n",
      "Epoch: 0007 cost = 0.151855528\n",
      "Epoch: 0008 cost = 0.137558356\n",
      "Epoch: 0009 cost = 0.127136320\n",
      "Epoch: 0010 cost = 0.117978394\n",
      "Epoch: 0011 cost = 0.110545211\n",
      "Epoch: 0012 cost = 0.105900384\n",
      "Epoch: 0013 cost = 0.100477427\n",
      "Epoch: 0014 cost = 0.095583752\n",
      "Epoch: 0015 cost = 0.091084093\n",
      "Epoch: 0016 cost = 0.087018654\n",
      "Epoch: 0017 cost = 0.084118955\n",
      "Epoch: 0018 cost = 0.080683120\n",
      "Epoch: 0019 cost = 0.077405237\n",
      "Epoch: 0020 cost = 0.074686468\n",
      "Learning finished\n"
     ]
    }
   ],
   "source": [
    "for epoch in range(20): \n",
    "    bn_model.train() # set the model to train mode (반드시 선언해야됨)\n",
    "    avg_cost = 0\n",
    "    for X, Y in train_loader:\n",
    "        X = X.view(-1, 28 * 28).cuda()\n",
    "        Y = Y.cuda()\n",
    "\n",
    "        bn_optimizer.zero_grad()\n",
    "        bn_prediction = bn_model(X)\n",
    "        bn_cost = bn_loss(bn_prediction, Y)\n",
    "        bn_cost.backward()\n",
    "        bn_optimizer.step()\n",
    "        avg_cost += bn_cost/len(train_loader)\n",
    "    \n",
    "    print('Epoch:', '%04d' % (epoch + 1), 'cost =', '{:.9f}'.format(avg_cost))\n",
    "\n",
    "print('Learning finished')"
   ]
  },
  {
   "cell_type": "code",
   "execution_count": 12,
   "id": "d07d315f",
   "metadata": {},
   "outputs": [
    {
     "name": "stdout",
     "output_type": "stream",
     "text": [
      "Accuracy: 0.9706\n"
     ]
    }
   ],
   "source": [
    "# Test model and check accuracy\n",
    "with torch.no_grad():\n",
    "    bn_model.eval()    # set the model to evaluation mode (dropout=False)\n",
    "    accuracy = 0\n",
    "    for data, target in test_loader:\n",
    "        \n",
    "    # Test the model using test sets\n",
    "        X_test = data.view(-1, 28 * 28).cuda()\n",
    "        Y_test = target.cuda()\n",
    "\n",
    "        prediction = bn_model(X_test)\n",
    "        correct_prediction = torch.argmax(prediction, 1) == Y_test\n",
    "        accuracy += correct_prediction.float().sum()\n",
    "    print('Accuracy:', accuracy.item()/len(test_loader.dataset))"
   ]
  },
  {
   "cell_type": "markdown",
   "id": "dddf80a7",
   "metadata": {},
   "source": [
    "## l_2 Reguralization "
   ]
  },
  {
   "cell_type": "code",
   "execution_count": 13,
   "id": "47f477a0",
   "metadata": {},
   "outputs": [],
   "source": [
    "# nn layers\n",
    "linear1 = torch.nn.Linear(784, 32, bias=True) \n",
    "linear2 = torch.nn.Linear(32, 32, bias=True) \n",
    "linear3 = torch.nn.Linear(32, 10, bias=True) \n",
    "\n",
    "relu = torch.nn.ReLU()"
   ]
  },
  {
   "cell_type": "code",
   "execution_count": 14,
   "id": "8c31eb09",
   "metadata": {},
   "outputs": [],
   "source": [
    "# model\n",
    "model = torch.nn.Sequential(linear1, relu, \n",
    "                            linear2, relu, \n",
    "                            linear3).cuda()"
   ]
  },
  {
   "cell_type": "code",
   "execution_count": 15,
   "id": "b1e61562",
   "metadata": {},
   "outputs": [],
   "source": [
    "loss = nn.CrossEntropyLoss()\n",
    "optimizer = optim.SGD(model.parameters(), lr=1e-2, momentum=0.9, weight_decay=1e-5)#weight_decay: l2_regularity"
   ]
  },
  {
   "cell_type": "code",
   "execution_count": 16,
   "id": "cb79a8bd",
   "metadata": {},
   "outputs": [
    {
     "name": "stdout",
     "output_type": "stream",
     "text": [
      "Epoch: 0001 cost = 0.746400595\n",
      "Epoch: 0002 cost = 0.281020582\n",
      "Epoch: 0003 cost = 0.218953595\n",
      "Epoch: 0004 cost = 0.179661870\n",
      "Epoch: 0005 cost = 0.154709116\n",
      "Epoch: 0006 cost = 0.135046378\n",
      "Epoch: 0007 cost = 0.123610385\n",
      "Epoch: 0008 cost = 0.111430608\n",
      "Epoch: 0009 cost = 0.101981118\n",
      "Epoch: 0010 cost = 0.096400365\n",
      "Epoch: 0011 cost = 0.090471856\n",
      "Epoch: 0012 cost = 0.085287340\n",
      "Epoch: 0013 cost = 0.079083249\n",
      "Epoch: 0014 cost = 0.075178340\n",
      "Epoch: 0015 cost = 0.071025617\n",
      "Epoch: 0016 cost = 0.066618495\n",
      "Epoch: 0017 cost = 0.064508028\n",
      "Epoch: 0018 cost = 0.061680585\n",
      "Epoch: 0019 cost = 0.058119863\n",
      "Epoch: 0020 cost = 0.054921046\n",
      "Learning finished\n"
     ]
    }
   ],
   "source": [
    "total_batch = len(train_loader)\n",
    "model.train()    # set the model to train mode (dropout=True)\n",
    "for epoch in range(20):\n",
    "    avg_cost = 0\n",
    "\n",
    "    for X, Y in train_loader:\n",
    "        # reshape input image into [batch_size by 784]\n",
    "        # label is not one-hot encoded\n",
    "        X = X.view(-1, 28 * 28).cuda()\n",
    "        Y = Y.cuda()\n",
    "\n",
    "        optimizer.zero_grad()\n",
    "        hypothesis = model(X)\n",
    "        cost = loss(hypothesis, Y)\n",
    "        cost.backward()\n",
    "        optimizer.step()\n",
    "\n",
    "        avg_cost += cost / total_batch\n",
    "\n",
    "    print('Epoch:', '%04d' % (epoch + 1), 'cost =', '{:.9f}'.format(avg_cost))\n",
    "\n",
    "print('Learning finished')"
   ]
  },
  {
   "cell_type": "code",
   "execution_count": 17,
   "id": "9812d3c1",
   "metadata": {},
   "outputs": [
    {
     "name": "stdout",
     "output_type": "stream",
     "text": [
      "Accuracy: 0.9709\n"
     ]
    }
   ],
   "source": [
    "# Test model and check accuracy\n",
    "with torch.no_grad():\n",
    "    model.eval()    # set the model to evaluation mode (dropout=False)\n",
    "    accuracy = 0\n",
    "    for data, target in test_loader:\n",
    "        \n",
    "    # Test the model using test sets\n",
    "        X_test = data.view(-1, 28 * 28).cuda()\n",
    "        Y_test = target.cuda()\n",
    "\n",
    "        prediction = model(X_test)\n",
    "        correct_prediction = torch.argmax(prediction, 1) == Y_test\n",
    "        accuracy += correct_prediction.float().sum()\n",
    "    print('Accuracy:', accuracy.item()/len(test_loader.dataset))"
   ]
  }
 ],
 "metadata": {
  "kernelspec": {
   "display_name": "Python 3",
   "language": "python",
   "name": "python3"
  },
  "language_info": {
   "codemirror_mode": {
    "name": "ipython",
    "version": 3
   },
   "file_extension": ".py",
   "mimetype": "text/x-python",
   "name": "python",
   "nbconvert_exporter": "python",
   "pygments_lexer": "ipython3",
   "version": "3.8.8"
  }
 },
 "nbformat": 4,
 "nbformat_minor": 5
}
