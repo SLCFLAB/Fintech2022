{
 "cells": [
  {
   "cell_type": "markdown",
   "id": "f72bade1",
   "metadata": {},
   "source": [
    "# 알고리즘 트레이딩 실습 1"
   ]
  },
  {
   "cell_type": "markdown",
   "id": "ef56403f",
   "metadata": {},
   "source": [
    "<a href=\"https://colab.research.google.com/github/SLCFLAB/Fintech2022/blob/main/AT_Day1.ipynb\" target=\"_parent\"><img src=\"https://colab.research.google.com/assets/colab-badge.svg\" alt=\"Open In Colab\"/></a>"
   ]
  },
  {
   "cell_type": "markdown",
   "id": "860a32bd",
   "metadata": {},
   "source": [
    "# Finance-datareader 에서 데이터 받아오기\n",
    "\n",
    "Reference:    \n",
    "https://financedata.github.io/posts/finance-data-reader-users-guide.html"
   ]
  },
  {
   "cell_type": "code",
   "execution_count": null,
   "id": "e29ad04b",
   "metadata": {},
   "outputs": [],
   "source": [
    "!pip install -U finance-datareader"
   ]
  },
  {
   "cell_type": "code",
   "execution_count": null,
   "id": "8bb1fff9",
   "metadata": {},
   "outputs": [],
   "source": [
    "!pip install cvxopt"
   ]
  },
  {
   "cell_type": "code",
   "execution_count": null,
   "id": "94ed34c6",
   "metadata": {},
   "outputs": [],
   "source": [
    "import FinanceDataReader as fdr\n",
    "print(fdr.__version__)\n",
    "import pandas as pd\n",
    "import matplotlib.pyplot as plt\n",
    "%matplotlib inline\n",
    "import numpy as np\n",
    "import cvxopt as opt\n",
    "from cvxopt import solvers\n",
    "import warnings\n",
    "\n",
    "# 경고 메세지를 띄우고 싶지 않다면 아래 주석 제거\n",
    "#warnings.filterwarnings('ignore')"
   ]
  },
  {
   "cell_type": "markdown",
   "id": "8d496259",
   "metadata": {},
   "source": [
    "## StockListing 함수"
   ]
  },
  {
   "cell_type": "markdown",
   "id": "092e995e",
   "metadata": {},
   "source": [
    "거래소에 속한 종목을 가져오는 데 사용. Input: **market**"
   ]
  },
  {
   "cell_type": "markdown",
   "id": "5d2ad160",
   "metadata": {},
   "source": [
    "한국 종목\n",
    "* KRX - 한국 전체 거래소(코스피 + 코스닥 + 코넥스)\n",
    "* KOSPI, KOSDAQ, KONEX\n",
    "\n",
    "미국 종목\n",
    "* NASDAQ, NYSE, AMEX, SP500"
   ]
  },
  {
   "cell_type": "code",
   "execution_count": null,
   "id": "b7d58b59",
   "metadata": {},
   "outputs": [],
   "source": [
    "sp500_listing = fdr.StockListing('SP500')\n",
    "sp500_listing"
   ]
  },
  {
   "cell_type": "code",
   "execution_count": null,
   "id": "42961da9",
   "metadata": {},
   "outputs": [],
   "source": [
    "kospi_listing = fdr.StockListing('KOSPI')\n",
    "kospi_listing"
   ]
  },
  {
   "cell_type": "code",
   "execution_count": null,
   "id": "a21d4bff",
   "metadata": {},
   "outputs": [],
   "source": [
    "kosdaq_listing = fdr.StockListing('KOSDAQ')\n",
    "kosdaq_listing"
   ]
  },
  {
   "cell_type": "markdown",
   "id": "f82a2ed8",
   "metadata": {},
   "source": [
    "미국 종목을 받아올 때와 한국 종목을 받아올 때의 column이 다르다는 것 확인 가능"
   ]
  },
  {
   "cell_type": "markdown",
   "id": "8cccbf1f",
   "metadata": {},
   "source": [
    "### To-do"
   ]
  },
  {
   "cell_type": "markdown",
   "id": "59ad3f56",
   "metadata": {},
   "source": [
    "Q. S&P 500 종목에서 Sector의 개수를 구하시오."
   ]
  },
  {
   "cell_type": "code",
   "execution_count": null,
   "id": "16e5ab83",
   "metadata": {},
   "outputs": [],
   "source": []
  },
  {
   "cell_type": "markdown",
   "id": "743dd6a2",
   "metadata": {},
   "source": [
    "Q. S&P 500 종목의 Sector 중 해당 Sector에 속하는 종목의 수가 5번째로 많은 Sector를 구하시오."
   ]
  },
  {
   "cell_type": "code",
   "execution_count": null,
   "id": "0b27b7ea",
   "metadata": {},
   "outputs": [],
   "source": []
  },
  {
   "cell_type": "markdown",
   "id": "67f1bd5f",
   "metadata": {},
   "source": [
    "Q. 코스피 종목 중 지역이 서울에 위치해 있으며 2번째로 최근에 상장된 종목의 종목명과 섹터를 구하시오."
   ]
  },
  {
   "cell_type": "code",
   "execution_count": null,
   "id": "3e5942ca",
   "metadata": {},
   "outputs": [],
   "source": []
  },
  {
   "cell_type": "markdown",
   "id": "e6e7ec1c",
   "metadata": {},
   "source": [
    "## DataReader 함수"
   ]
  },
  {
   "cell_type": "markdown",
   "id": "9a5c22bd",
   "metadata": {},
   "source": [
    "실질적인 증시 데이터를 불러오는 데에 사용할 수 있는 함수는 `DataReader` 함수. Input으로 Symbol은 반드시 들어가야 함. 해당 Symbol을 확인할 수 있는 함수가 `StockListing`이라고 볼 수 있다."
   ]
  },
  {
   "cell_type": "code",
   "execution_count": null,
   "id": "65d1cfcd",
   "metadata": {},
   "outputs": [],
   "source": [
    "fdr.DataReader('006840', '2019-01-01', '2019-12-31')"
   ]
  },
  {
   "cell_type": "markdown",
   "id": "d4094de0",
   "metadata": {},
   "source": [
    "DataReader를 통해 받은 dataframe의 Column 정보 \n",
    "* Open: 시가\n",
    "* High: 고가\n",
    "* Low: 저가\n",
    "* Close: 종가\n",
    "* Volume: 거래량\n",
    "* Change: 등락폭"
   ]
  },
  {
   "cell_type": "code",
   "execution_count": null,
   "id": "3d78321a",
   "metadata": {},
   "outputs": [],
   "source": [
    "plt.figure(figsize=(10, 10))\n",
    "\n",
    "dt = fdr.DataReader('006840', '2011') #2011년~현재\n",
    "plt.plot(dt['Close'])"
   ]
  },
  {
   "cell_type": "code",
   "execution_count": null,
   "id": "b741ca0d",
   "metadata": {},
   "outputs": [],
   "source": [
    "# KS11\tKOSPI 지수\n",
    "# KQ11\tKOSDAQ 지수\n",
    "# KS50\tKOSPI 50 지수\n",
    "# KS100\tKOSPI 100\n",
    "# KRX100\tKRX 100\n",
    "# KS200\t코스피 200\n",
    "\n",
    "# DJI\t다우존스 지수\n",
    "# IXIC\t나스닥 지수\n",
    "# US500\tS&P 500 지수\n",
    "# VIX\tS&P 500 VIX\n",
    "\n",
    "# JP225\t닛케이 225 선물\n",
    "# STOXX50E\tEuro Stoxx 50\n",
    "# CSI300\tCSI 300 (중국)\n",
    "# HSI\t항셍 (홍콩)\n",
    "# FTSE\t영국 FTSE\n",
    "# DAX\t독일 DAX 30\n",
    "# CAC\t프랑스 CAC 40\n",
    "\n",
    "# 환율 데이터: USD/KRX (원달러 환율), USD/EUR(달러당 유로화 환율), CNY/KRW: 위엔화 원화 환율\n",
    "\n",
    "\n",
    "# 암호 화폐\n",
    "# 암호화폐 가격: BTC/USD (비트코인 달러 가격, Bitfinex), BTC/KRW (비트코인 원화 가격, 빗썸)"
   ]
  },
  {
   "cell_type": "code",
   "execution_count": null,
   "id": "0f1434ae",
   "metadata": {},
   "outputs": [],
   "source": [
    "# KS11 (KOSPI 지수), 2015년~현재\n",
    "df = fdr.DataReader('KS11', '2015')\n",
    "plt.plot(df['Close'])\n",
    "plt.show()"
   ]
  },
  {
   "cell_type": "code",
   "execution_count": null,
   "id": "c8c73162",
   "metadata": {},
   "outputs": [],
   "source": [
    "# 원달러 환율, 1995년~현재\n",
    "df = fdr.DataReader('USD/KRW', '1995')\n",
    "plt.plot(df['Close'])\n",
    "plt.show()"
   ]
  },
  {
   "cell_type": "markdown",
   "id": "708bf45e",
   "metadata": {},
   "source": [
    "### To-do"
   ]
  },
  {
   "cell_type": "markdown",
   "id": "f79abae3",
   "metadata": {},
   "source": [
    "Q. 삼성전자의 2019년 ~ 현재까지의 종가를 도식화하시오."
   ]
  },
  {
   "cell_type": "code",
   "execution_count": null,
   "id": "98281563",
   "metadata": {},
   "outputs": [],
   "source": []
  },
  {
   "cell_type": "markdown",
   "id": "65f2ea16",
   "metadata": {},
   "source": [
    "Q. 삼성전자의 등락폭이 가장 컸던 날의 날짜와 해당 날짜의 등락폭을 구하시오."
   ]
  },
  {
   "cell_type": "code",
   "execution_count": null,
   "id": "b19ec0b8",
   "metadata": {},
   "outputs": [],
   "source": []
  },
  {
   "cell_type": "markdown",
   "id": "3b15843f",
   "metadata": {},
   "source": [
    "# 데이터 전처리 하기"
   ]
  },
  {
   "cell_type": "code",
   "execution_count": null,
   "id": "bf9eb7e6",
   "metadata": {},
   "outputs": [],
   "source": [
    "dt = fdr.StockListing('SP500')"
   ]
  },
  {
   "cell_type": "code",
   "execution_count": null,
   "id": "7fbb079e",
   "metadata": {},
   "outputs": [],
   "source": [
    "a = {}\n",
    "\n",
    "for name in dt['Symbol'][:20]:\n",
    "    print(name)\n",
    "    try:\n",
    "        a[name] = fdr.DataReader(name, '2018-12-31', '2019-12-31')['Close']\n",
    "    except:\n",
    "        print('except')\n",
    "        pass"
   ]
  },
  {
   "cell_type": "code",
   "execution_count": null,
   "id": "2e656d14",
   "metadata": {},
   "outputs": [],
   "source": [
    "a['MMM']"
   ]
  },
  {
   "cell_type": "code",
   "execution_count": null,
   "id": "c9084b1e",
   "metadata": {},
   "outputs": [],
   "source": [
    "k = pd.DataFrame(a)"
   ]
  },
  {
   "cell_type": "code",
   "execution_count": null,
   "id": "3e603549",
   "metadata": {},
   "outputs": [],
   "source": [
    "k.shape"
   ]
  },
  {
   "cell_type": "code",
   "execution_count": null,
   "id": "9e8c8163",
   "metadata": {},
   "outputs": [],
   "source": [
    "k"
   ]
  },
  {
   "cell_type": "code",
   "execution_count": null,
   "id": "dcf1c170",
   "metadata": {},
   "outputs": [],
   "source": [
    "plt.figure(figsize=(50, 50))\n",
    "k.plot()"
   ]
  },
  {
   "cell_type": "code",
   "execution_count": null,
   "id": "36f1d19b",
   "metadata": {},
   "outputs": [],
   "source": [
    "kk = k / k.iloc[0]"
   ]
  },
  {
   "cell_type": "code",
   "execution_count": null,
   "id": "e1873de7",
   "metadata": {},
   "outputs": [],
   "source": [
    "kk"
   ]
  },
  {
   "cell_type": "code",
   "execution_count": null,
   "id": "967d4ef8",
   "metadata": {},
   "outputs": [],
   "source": [
    "kk.plot()"
   ]
  },
  {
   "cell_type": "markdown",
   "id": "b2f9d046",
   "metadata": {},
   "source": [
    "# Expected Return and Covariance 구하기"
   ]
  },
  {
   "cell_type": "code",
   "execution_count": null,
   "id": "d6e19c3f",
   "metadata": {},
   "outputs": [],
   "source": [
    "data = k\n",
    "holding_periods=1"
   ]
  },
  {
   "cell_type": "code",
   "execution_count": null,
   "id": "6891d878",
   "metadata": {},
   "outputs": [],
   "source": [
    "returns = data.pct_change(holding_periods).iloc[holding_periods:] # holding period return vector"
   ]
  },
  {
   "cell_type": "code",
   "execution_count": null,
   "id": "f1d24557",
   "metadata": {},
   "outputs": [],
   "source": [
    "returns"
   ]
  },
  {
   "cell_type": "code",
   "execution_count": null,
   "id": "0ae71e70",
   "metadata": {},
   "outputs": [],
   "source": [
    "data"
   ]
  },
  {
   "cell_type": "code",
   "execution_count": null,
   "id": "4297c046",
   "metadata": {},
   "outputs": [],
   "source": [
    "data.shift(holding_periods)"
   ]
  },
  {
   "cell_type": "code",
   "execution_count": null,
   "id": "35f28fbe",
   "metadata": {},
   "outputs": [],
   "source": [
    "returns2 = (data - data.shift(holding_periods)) / data.shift(holding_periods)"
   ]
  },
  {
   "cell_type": "code",
   "execution_count": null,
   "id": "6a63ad9a",
   "metadata": {},
   "outputs": [],
   "source": [
    "log_returns = np.log(data) - np.log(data.shift(holding_periods))"
   ]
  },
  {
   "cell_type": "code",
   "execution_count": null,
   "id": "e5a0cd34",
   "metadata": {},
   "outputs": [],
   "source": [
    "log_returns"
   ]
  },
  {
   "cell_type": "code",
   "execution_count": null,
   "id": "6ff40bdd",
   "metadata": {},
   "outputs": [],
   "source": [
    "holding_periods=1\n",
    "n_term=252 # dailiy return을 annualize\n",
    "data = k\n",
    "\n",
    "returns = data.pct_change(holding_periods).iloc[holding_periods:] # holding period return vector\n",
    "\n",
    "exp_rets = returns.mean() * n_term # average return -- > APR(annual percentage rate)\n",
    "cov_mat = returns.cov() * n_term # covariance\n",
    "corr_mat = returns.corr() # corr"
   ]
  },
  {
   "cell_type": "code",
   "execution_count": null,
   "id": "1f31b4a8",
   "metadata": {},
   "outputs": [],
   "source": [
    "corr_mat"
   ]
  },
  {
   "cell_type": "code",
   "execution_count": null,
   "id": "f9c89d43",
   "metadata": {},
   "outputs": [],
   "source": [
    "cov_mat = returns.cov()"
   ]
  },
  {
   "cell_type": "code",
   "execution_count": null,
   "id": "2ff0b712",
   "metadata": {},
   "outputs": [],
   "source": [
    "var = np.diag(cov_mat)"
   ]
  },
  {
   "cell_type": "code",
   "execution_count": null,
   "id": "e6c0a22f",
   "metadata": {},
   "outputs": [],
   "source": [
    "annulized_var = var * n_term"
   ]
  },
  {
   "cell_type": "code",
   "execution_count": null,
   "id": "18fe4f45",
   "metadata": {},
   "outputs": [],
   "source": [
    "daily_std = returns.std()"
   ]
  },
  {
   "cell_type": "code",
   "execution_count": null,
   "id": "acf72334",
   "metadata": {},
   "outputs": [],
   "source": [
    "annulized_std = daily_std * np.sqrt(252)"
   ]
  },
  {
   "cell_type": "code",
   "execution_count": null,
   "id": "3f3e0bc9",
   "metadata": {},
   "outputs": [],
   "source": [
    "returns.cov()"
   ]
  },
  {
   "cell_type": "markdown",
   "id": "ca93a428",
   "metadata": {},
   "source": [
    "# To-do"
   ]
  },
  {
   "cell_type": "markdown",
   "id": "ab96bf3a",
   "metadata": {},
   "source": [
    "다음의 조건에 해당하는 각 지수별 price data를 pandas의 DataFrame 형태로 생성하시오.      \n",
    "https://financedata.github.io/posts/finance-data-reader-users-guide.html\n",
    "* 조건 1: 각 row의 인덱스는 날짜, 각 컬럼은 KOSPI200 지수, S&P500 지수, 나스닥 지수, 닛케이225 선물, USD/KRW로 구성.\n",
    "* 조건 2: 종가 기준, 기간은 2010년 이후 현재까지.\n",
    "\n",
    "\n",
    "\n",
    " KS200:\t코스피 200, US500:\tS&P 500 지수, JP225:\t닛케이 225 선물\n",
    "\n"
   ]
  },
  {
   "cell_type": "code",
   "execution_count": null,
   "id": "7722c262",
   "metadata": {},
   "outputs": [],
   "source": [
    "symbols = ['KS200', 'US500', 'IXIC', 'JP225', 'USD/KRW']\n",
    "\n",
    "a = {}\n",
    "for symbol in symbols:\n",
    "    a[symbol] = fdr.DataReader(symbol, '2009-12-31')['Close']"
   ]
  },
  {
   "cell_type": "code",
   "execution_count": null,
   "id": "52246ba5",
   "metadata": {},
   "outputs": [],
   "source": [
    "a = pd.DataFrame(a)"
   ]
  },
  {
   "cell_type": "code",
   "execution_count": null,
   "id": "55e49045",
   "metadata": {},
   "outputs": [],
   "source": [
    "a"
   ]
  },
  {
   "cell_type": "markdown",
   "id": "18bc20b6",
   "metadata": {},
   "source": [
    "위에서 생성된 DataFrame을 활용하여 다음의 데이터를 만드시오.    \n",
    "a) daily return vector.    \n",
    "b) (annulaize된) expected return    \n",
    "c) covariance matrix    \n",
    "d) correlation matrix"
   ]
  },
  {
   "cell_type": "code",
   "execution_count": null,
   "id": "374c6b8c",
   "metadata": {},
   "outputs": [],
   "source": [
    "holding_periods=1\n",
    "n_term=252 # dailiy return을 annualize\n",
    "data = a"
   ]
  },
  {
   "cell_type": "code",
   "execution_count": null,
   "id": "a6968b19",
   "metadata": {},
   "outputs": [],
   "source": [
    "returns = data.pct_change(holding_periods).iloc[holding_periods:]"
   ]
  },
  {
   "cell_type": "code",
   "execution_count": null,
   "id": "580dd698",
   "metadata": {},
   "outputs": [],
   "source": [
    "exp_rets = returns.mean() * n_term # average return -- > APR(annual percentage rate)"
   ]
  },
  {
   "cell_type": "code",
   "execution_count": null,
   "id": "52604ed2",
   "metadata": {},
   "outputs": [],
   "source": [
    "cov_mat = returns.cov() * n_term # covariance"
   ]
  },
  {
   "cell_type": "code",
   "execution_count": null,
   "id": "84e0c9f9",
   "metadata": {},
   "outputs": [],
   "source": [
    "corr_mat = returns.corr() # corr"
   ]
  },
  {
   "cell_type": "markdown",
   "id": "ee472c98",
   "metadata": {},
   "source": [
    "# Efficient Frontier 구하기\n",
    "\n",
    "Reference: \n",
    "https://cvxopt.org/userguide/coneprog.html?highlight=qp#cvxoptsolvers.qp"
   ]
  },
  {
   "cell_type": "code",
   "execution_count": null,
   "id": "31756759",
   "metadata": {},
   "outputs": [],
   "source": [
    "def mean_var_portfolio(cov_mat, exp_rets, target_ret):\n",
    "    \n",
    "    n = len(cov_mat)\n",
    "\n",
    "    # Objective function\n",
    "    # min (1/2)*w.T*P*w\n",
    "    P = opt.matrix(cov_mat.values) \n",
    "    q = opt.matrix(0.0, (n, 1))\n",
    "\n",
    "    # Constraints Gw <= h\n",
    "    # exp_rets*w >= target_ret and w >= 0\n",
    "    G = opt.matrix(np.vstack((-exp_rets.values, -np.identity(n))))\n",
    "    h = opt.matrix(np.vstack((-target_ret, np.zeros((n, 1)))))\n",
    "\n",
    "    # Constraints Aw = b\n",
    "    # sum(w) = 1\n",
    "    A = opt.matrix(1.0, (1, n))\n",
    "    b = opt.matrix(1.0)\n",
    "\n",
    "    # Solve\n",
    "    solvers.options['show_progress'] = False\n",
    "    sol = solvers.qp(P, q, G, h, A, b)\n",
    "\n",
    "    # Put weights into a labeled series\n",
    "    w = pd.Series(sol['x'], index=cov_mat.index)\n",
    "\n",
    "    return w"
   ]
  },
  {
   "cell_type": "code",
   "execution_count": null,
   "id": "c30fdd86",
   "metadata": {},
   "outputs": [],
   "source": [
    "np.array(exp_rets)"
   ]
  },
  {
   "cell_type": "code",
   "execution_count": null,
   "id": "66471d80",
   "metadata": {},
   "outputs": [],
   "source": [
    "np.sqrt(np.diag(cov_mat))"
   ]
  },
  {
   "cell_type": "code",
   "execution_count": null,
   "id": "a9485c4e",
   "metadata": {},
   "outputs": [],
   "source": [
    "plt.matshow(corr_mat)\n",
    "plt.show()"
   ]
  },
  {
   "cell_type": "code",
   "execution_count": null,
   "id": "ea62c3ce",
   "metadata": {},
   "outputs": [],
   "source": [
    "corr_mat.style.background_gradient(cmap='coolwarm')"
   ]
  },
  {
   "cell_type": "code",
   "execution_count": null,
   "id": "6fcb1cc7",
   "metadata": {},
   "outputs": [],
   "source": [
    "import seaborn as sns\n",
    "sns.heatmap(corr_mat)"
   ]
  },
  {
   "cell_type": "code",
   "execution_count": null,
   "id": "ea11355c",
   "metadata": {},
   "outputs": [],
   "source": [
    "exp_rets"
   ]
  },
  {
   "cell_type": "code",
   "execution_count": null,
   "id": "45da4d55",
   "metadata": {},
   "outputs": [],
   "source": [
    "np.sqrt(np.diag(cov_mat)).max()"
   ]
  },
  {
   "cell_type": "code",
   "execution_count": null,
   "id": "f407002b",
   "metadata": {},
   "outputs": [],
   "source": [
    "exp_rets.max()"
   ]
  },
  {
   "cell_type": "code",
   "execution_count": null,
   "id": "0571e201",
   "metadata": {},
   "outputs": [],
   "source": [
    "exp_rets[exp_rets > 0].min()"
   ]
  },
  {
   "cell_type": "code",
   "execution_count": null,
   "id": "63e1c223",
   "metadata": {},
   "outputs": [],
   "source": [
    "max_risk = 0.5\n",
    "max_ret = exp_rets.max()\n",
    "min_ret = exp_rets[exp_rets > 0].min()\n",
    "\n",
    "n_step = 100\n",
    "step_diff = (max_ret - min_ret)/n_step\n",
    "\n",
    "risks = []\n",
    "rets = []\n",
    "\n",
    "for step in range(n_step):\n",
    "    target_ret = min_ret + (step * step_diff) # y축을 아래부터 시작해서 위로 조금씩 올려가면서\n",
    "    _w = mean_var_portfolio(cov_mat, exp_rets, target_ret) # 최적화를 돌려서 나온 _w임.\n",
    "    risk = np.sqrt(np.dot(np.dot(_w, cov_mat), _w))\n",
    "    \n",
    "    if risk > max_risk:\n",
    "        break\n",
    "    \n",
    "    risks.append(risk)\n",
    "    ret = np.dot(exp_rets, _w)\n",
    "    rets.append(ret)"
   ]
  },
  {
   "cell_type": "code",
   "execution_count": null,
   "id": "a775f51c",
   "metadata": {},
   "outputs": [],
   "source": [
    "risks"
   ]
  },
  {
   "cell_type": "code",
   "execution_count": null,
   "id": "ad9093d9",
   "metadata": {},
   "outputs": [],
   "source": [
    "rets"
   ]
  },
  {
   "cell_type": "code",
   "execution_count": null,
   "id": "43734ec4",
   "metadata": {},
   "outputs": [],
   "source": [
    "plt.plot(risks, rets)\n",
    "plt.show()"
   ]
  },
  {
   "cell_type": "code",
   "execution_count": null,
   "id": "402e9421",
   "metadata": {},
   "outputs": [],
   "source": [
    "plt.plot(risks, rets)\n",
    "var = np.diag(cov_mat)\n",
    "plt.scatter(np.sqrt(var), exp_rets)\n",
    "plt.show()"
   ]
  },
  {
   "cell_type": "code",
   "execution_count": null,
   "id": "9bcae5cc",
   "metadata": {},
   "outputs": [],
   "source": [
    "plt.plot(risks, rets)\n",
    "var = np.diag(cov_mat)\n",
    "plt.scatter(np.sqrt(var), exp_rets)\n",
    "plt.show()"
   ]
  },
  {
   "cell_type": "markdown",
   "id": "b0347c00",
   "metadata": {},
   "source": [
    "## To-Do"
   ]
  },
  {
   "cell_type": "markdown",
   "id": "ace80854",
   "metadata": {},
   "source": [
    "위 실습 1,2에서 구한 expected return과 covriance를 바탕으로 아래의 코드의 빈칸을 채워 Efficient frontier를 그려보시오"
   ]
  },
  {
   "cell_type": "code",
   "execution_count": null,
   "id": "cd252bd1",
   "metadata": {},
   "outputs": [],
   "source": [
    "max_risk=0.5\n",
    "max_ret = ??\n",
    "min_ret = ??\n",
    "\n",
    "n_step = 1000\n",
    "step_diff = (max_ret - min_ret)/n_step\n",
    "\n",
    "risks = []\n",
    "rets = []\n",
    "\n",
    "for step in range(n_step):\n",
    "    target_ret = min_ret + (step * step_diff) # y축을 아래부터 시작해서 위로 조금씩 올려가면서\n",
    "    _w = ?? # 최적화를 돌려서 나온 _w임.\n",
    "    risk = ??\n",
    "\n",
    "    if risk > max_risk:\n",
    "        break\n",
    "    \n",
    "    risks.append(risk)\n",
    "    ret = ??\n",
    "    rets.append(ret)"
   ]
  },
  {
   "cell_type": "code",
   "execution_count": null,
   "id": "4f91d137",
   "metadata": {},
   "outputs": [],
   "source": [
    "plt.plot(risks, rets)\n",
    "plt.show()"
   ]
  }
 ],
 "metadata": {
  "kernelspec": {
   "display_name": "finance_env",
   "language": "python",
   "name": "finance_env"
  },
  "language_info": {
   "codemirror_mode": {
    "name": "ipython",
    "version": 3
   },
   "file_extension": ".py",
   "mimetype": "text/x-python",
   "name": "python",
   "nbconvert_exporter": "python",
   "pygments_lexer": "ipython3",
   "version": "3.7.11"
  }
 },
 "nbformat": 4,
 "nbformat_minor": 5
}
