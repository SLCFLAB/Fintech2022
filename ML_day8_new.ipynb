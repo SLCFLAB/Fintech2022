{
 "cells": [
  {
   "cell_type": "markdown",
   "id": "578f8efc",
   "metadata": {},
   "source": [
    "# Neural Network"
   ]
  },
  {
   "cell_type": "markdown",
   "id": "6e00049b",
   "metadata": {},
   "source": [
    "colab에서 열기: "
   ]
  },
  {
   "cell_type": "markdown",
   "id": "de60dca3",
   "metadata": {},
   "source": [
    "## Tensor"
   ]
  },
  {
   "cell_type": "code",
   "execution_count": 2,
   "id": "66fbda43",
   "metadata": {},
   "outputs": [],
   "source": [
    "import torch #pytorch: 머신러닝 라이브러리"
   ]
  },
  {
   "cell_type": "code",
   "execution_count": 8,
   "id": "8f875490",
   "metadata": {},
   "outputs": [
    {
     "name": "stdout",
     "output_type": "stream",
     "text": [
      "tensor([[1.7156e-07, 1.7662e-04, 2.5643e-09],\n",
      "        [2.1456e-07, 1.7474e-04, 1.3662e-05]])\n"
     ]
    }
   ],
   "source": [
    "#tensor: 배열의 집합\n",
    "# x = torch.Tensor(행, 열)\n",
    "x = torch.Tensor(2, 3)\n",
    "print(x)"
   ]
  },
  {
   "cell_type": "code",
   "execution_count": 10,
   "id": "295d8f8a",
   "metadata": {},
   "outputs": [
    {
     "name": "stdout",
     "output_type": "stream",
     "text": [
      "tensor([[0., 0., 0.],\n",
      "        [0., 0., 0.]])\n"
     ]
    }
   ],
   "source": [
    "a = torch.zeros(2, 3)#0으로 채워진 Tensor 선언\n",
    "b = torch.ones(2, 3)#1로 채워진 Tensor 선언\n",
    "c = torch.rand(2, 3)#0, 1 사이의 랜덤 숫자로 채워진 Tensor 선언\n",
    "d = torch.randn(2, 3)#평균이 0이고 분산이 1을 따르는 정규분포에서 추출된 값으로 채워진 Tensor 선언\n",
    "e = torch.eye(2, 3)#정방행렬과 같은 Tensor 선언\n",
    "f = torch.arange(0, 2, step=0.5)#0부터 2까지 0.5씩 증가하는 Tensor 선언\n",
    "g = torch.Tensor([[1,2,3],[1,2,3]])#직접 값을 입력하여 선언\n",
    "print(a)"
   ]
  },
  {
   "cell_type": "markdown",
   "id": "527e9f2f",
   "metadata": {},
   "source": [
    "## Tensor and Numpy"
   ]
  },
  {
   "cell_type": "code",
   "execution_count": 22,
   "id": "cb8c57ca",
   "metadata": {},
   "outputs": [],
   "source": [
    "import numpy as np"
   ]
  },
  {
   "cell_type": "code",
   "execution_count": 23,
   "id": "e60faa66",
   "metadata": {},
   "outputs": [
    {
     "name": "stdout",
     "output_type": "stream",
     "text": [
      "[[1 2 3]\n",
      " [1 2 3]] <class 'numpy.ndarray'>\n"
     ]
    }
   ],
   "source": [
    "#numpy 형식의 배열\n",
    "x = np.array([[1,2,3],[1,2,3]])\n",
    "print(x, type(x))"
   ]
  },
  {
   "cell_type": "code",
   "execution_count": 26,
   "id": "f92e6dcb",
   "metadata": {},
   "outputs": [
    {
     "name": "stdout",
     "output_type": "stream",
     "text": [
      "tensor([[1, 2, 3],\n",
      "        [1, 2, 3]])\n",
      "Tensor Type :  torch.LongTensor\n",
      "Tensor Size :  torch.Size([2, 3])\n"
     ]
    }
   ],
   "source": [
    "#numpy를 tensor로 변환\n",
    "x = torch.from_numpy(x) # x = torch.Tensor(x)\n",
    "print(x)\n",
    "print(\"Tensor Type : \", x.type())\n",
    "print(\"Tensor Size : \", x.size())"
   ]
  },
  {
   "cell_type": "code",
   "execution_count": 27,
   "id": "b7f552af",
   "metadata": {},
   "outputs": [
    {
     "name": "stdout",
     "output_type": "stream",
     "text": [
      "[[1 2 3]\n",
      " [1 2 3]] <class 'numpy.ndarray'>\n"
     ]
    }
   ],
   "source": [
    "#tensor를 numpy로 변환\n",
    "x = x.numpy()\n",
    "print(x, type(x))"
   ]
  },
  {
   "cell_type": "markdown",
   "id": "ddee69ea",
   "metadata": {},
   "source": [
    "## Tensor Slicing"
   ]
  },
  {
   "cell_type": "code",
   "execution_count": 28,
   "id": "750649d6",
   "metadata": {},
   "outputs": [
    {
     "name": "stdout",
     "output_type": "stream",
     "text": [
      "tensor([[ 1.,  2.,  3.,  4.],\n",
      "        [ 5.,  6.,  7.,  8.],\n",
      "        [ 9., 10., 11., 12.]])\n"
     ]
    }
   ],
   "source": [
    "x = torch.Tensor([[1,2,3,4],[5,6,7,8],[9,10,11,12]])\n",
    "print(x)"
   ]
  },
  {
   "cell_type": "code",
   "execution_count": 29,
   "id": "ea0ad98e",
   "metadata": {},
   "outputs": [
    {
     "data": {
      "text/plain": [
       "tensor([[ 1.,  2.,  3.,  4.],\n",
       "        [ 5.,  6.,  7.,  8.],\n",
       "        [ 9., 10., 11., 12.]])"
      ]
     },
     "execution_count": 29,
     "metadata": {},
     "output_type": "execute_result"
    }
   ],
   "source": [
    "#모든 원소 출력\n",
    "x[:, :]"
   ]
  },
  {
   "cell_type": "code",
   "execution_count": 30,
   "id": "35031f8d",
   "metadata": {
    "scrolled": true
   },
   "outputs": [
    {
     "data": {
      "text/plain": [
       "tensor([[ 5.,  6.,  7.,  8.],\n",
       "        [ 9., 10., 11., 12.]])"
      ]
     },
     "execution_count": 30,
     "metadata": {},
     "output_type": "execute_result"
    }
   ],
   "source": [
    "#2행부터 출력\n",
    "x[1:, :]"
   ]
  },
  {
   "cell_type": "code",
   "execution_count": 31,
   "id": "e92fa566",
   "metadata": {
    "scrolled": true
   },
   "outputs": [
    {
     "data": {
      "text/plain": [
       "tensor([[ 2.,  3.,  4.],\n",
       "        [ 6.,  7.,  8.],\n",
       "        [10., 11., 12.]])"
      ]
     },
     "execution_count": 31,
     "metadata": {},
     "output_type": "execute_result"
    }
   ],
   "source": [
    "#2열부터 출력\n",
    "x[:, 1:]"
   ]
  },
  {
   "cell_type": "code",
   "execution_count": 33,
   "id": "14ea5a56",
   "metadata": {
    "scrolled": true
   },
   "outputs": [
    {
     "data": {
      "text/plain": [
       "tensor([1., 2., 3., 4.])"
      ]
     },
     "execution_count": 33,
     "metadata": {},
     "output_type": "execute_result"
    }
   ],
   "source": [
    "#1행 출력\n",
    "x[0, :]"
   ]
  },
  {
   "cell_type": "code",
   "execution_count": 34,
   "id": "9713674a",
   "metadata": {},
   "outputs": [
    {
     "name": "stdout",
     "output_type": "stream",
     "text": [
      "(tensor([[1., 2., 3., 4.]]), tensor([[5., 6., 7., 8.]]), tensor([[ 9., 10., 11., 12.]]))\n"
     ]
    }
   ],
   "source": [
    "#x를 1행씩 잘라서 배열로 저장\n",
    "x_rows = torch.split(x, split_size_or_sections=1, dim=0)\n",
    "print(x_rows)"
   ]
  },
  {
   "cell_type": "code",
   "execution_count": 35,
   "id": "5e62ec1b",
   "metadata": {},
   "outputs": [
    {
     "name": "stdout",
     "output_type": "stream",
     "text": [
      "(tensor([[ 1.,  2.],\n",
      "        [ 5.,  6.],\n",
      "        [ 9., 10.]]), tensor([[ 3.,  4.],\n",
      "        [ 7.,  8.],\n",
      "        [11., 12.]]))\n"
     ]
    }
   ],
   "source": [
    "#x를 2열씩 잘라서 배열로 저장\n",
    "x_cols = torch.split(x, split_size_or_sections=2, dim=1)\n",
    "print(x_cols)"
   ]
  },
  {
   "cell_type": "code",
   "execution_count": 40,
   "id": "8d6a68dc",
   "metadata": {},
   "outputs": [
    {
     "data": {
      "text/plain": [
       "tensor([ 2.,  5., 10.])"
      ]
     },
     "execution_count": 40,
     "metadata": {},
     "output_type": "execute_result"
    }
   ],
   "source": [
    "#x_cols의 첫번째 배열 중 특정 부분만 추출하기\n",
    "torch.masked_select(x_cols[0], torch.Tensor([[0,1],[1,0],[0,1]]).bool())"
   ]
  },
  {
   "cell_type": "markdown",
   "id": "afca2a4c",
   "metadata": {},
   "source": [
    "##  Tensor Merging"
   ]
  },
  {
   "cell_type": "code",
   "execution_count": 29,
   "id": "01105f99",
   "metadata": {},
   "outputs": [
    {
     "data": {
      "text/plain": [
       "tensor([[ 1.,  2.,  3.,  4.],\n",
       "        [ 5.,  6.,  7.,  8.],\n",
       "        [ 9., 10., 11., 12.]])"
      ]
     },
     "execution_count": 29,
     "metadata": {},
     "output_type": "execute_result"
    }
   ],
   "source": [
    "#x_rows를 행으로 이어 붙이기\n",
    "torch.cat(x_rows, dim=0)"
   ]
  },
  {
   "cell_type": "code",
   "execution_count": 30,
   "id": "07b00994",
   "metadata": {},
   "outputs": [
    {
     "data": {
      "text/plain": [
       "tensor([[ 1.,  2.,  3.,  4.,  5.,  6.,  7.,  8.,  9., 10., 11., 12.]])"
      ]
     },
     "execution_count": 30,
     "metadata": {},
     "output_type": "execute_result"
    }
   ],
   "source": [
    "#x_rows를 열로 이어 붙이기\n",
    "torch.cat(x_rows, dim=1)"
   ]
  },
  {
   "cell_type": "code",
   "execution_count": 31,
   "id": "14aadcf1",
   "metadata": {},
   "outputs": [
    {
     "name": "stdout",
     "output_type": "stream",
     "text": [
      "tensor([[[ 1.,  2.],\n",
      "         [ 5.,  6.],\n",
      "         [ 9., 10.]],\n",
      "\n",
      "        [[ 3.,  4.],\n",
      "         [ 7.,  8.],\n",
      "         [11., 12.]]])\n"
     ]
    }
   ],
   "source": [
    "#x_cols를 쌓아올리기\n",
    "x_new = torch.stack(x_cols, dim=0)\n",
    "print(x_new)#쌓아 올리는거, shape같아야 함."
   ]
  },
  {
   "cell_type": "markdown",
   "id": "3345e468",
   "metadata": {},
   "source": [
    "## Tensor Reshaping"
   ]
  },
  {
   "cell_type": "code",
   "execution_count": 32,
   "id": "2771dc56",
   "metadata": {
    "scrolled": true
   },
   "outputs": [
    {
     "name": "stdout",
     "output_type": "stream",
     "text": [
      "tensor([[ 1.,  2.,  3.,  4.],\n",
      "        [ 5.,  6.,  7.,  8.],\n",
      "        [ 9., 10., 11., 12.]])\n"
     ]
    }
   ],
   "source": [
    "x = torch.Tensor([[1,2,3,4],[5,6,7,8],[9,10,11,12]])\n",
    "print(x)"
   ]
  },
  {
   "cell_type": "code",
   "execution_count": 33,
   "id": "4ff146d8",
   "metadata": {},
   "outputs": [
    {
     "data": {
      "text/plain": [
       "tensor([[ 1.,  2.,  3.],\n",
       "        [ 4.,  5.,  6.],\n",
       "        [ 7.,  8.,  9.],\n",
       "        [10., 11., 12.]])"
      ]
     },
     "execution_count": 33,
     "metadata": {},
     "output_type": "execute_result"
    }
   ],
   "source": [
    "#4행 3열로 바꾸기\n",
    "x.view(4, 3)#reshape와 같은 역할"
   ]
  },
  {
   "cell_type": "code",
   "execution_count": 34,
   "id": "d6e24133",
   "metadata": {},
   "outputs": [
    {
     "data": {
      "text/plain": [
       "tensor([[ 1.,  2.],\n",
       "        [ 3.,  4.],\n",
       "        [ 5.,  6.],\n",
       "        [ 7.,  8.],\n",
       "        [ 9., 10.],\n",
       "        [11., 12.]])"
      ]
     },
     "execution_count": 34,
     "metadata": {},
     "output_type": "execute_result"
    }
   ],
   "source": [
    "#2열로 바꾸기\n",
    "x.view(-1, 2)#-1: 알맞은 숫자로 reshape해줌 (3,4) ->(6,2)"
   ]
  },
  {
   "cell_type": "code",
   "execution_count": 35,
   "id": "60868130",
   "metadata": {},
   "outputs": [
    {
     "data": {
      "text/plain": [
       "tensor([[[ 1.,  2.,  3.,  4.,  5.,  6.]],\n",
       "\n",
       "        [[ 7.,  8.,  9., 10., 11., 12.]]])"
      ]
     },
     "execution_count": 35,
     "metadata": {},
     "output_type": "execute_result"
    }
   ],
   "source": [
    "x.view(2, 1, -1)"
   ]
  },
  {
   "cell_type": "code",
   "execution_count": 36,
   "id": "517559b8",
   "metadata": {},
   "outputs": [
    {
     "data": {
      "text/plain": [
       "tensor([[ 1.,  2.,  3.,  4.,  5.,  6.],\n",
       "        [ 7.,  8.,  9., 10., 11., 12.]])"
      ]
     },
     "execution_count": 36,
     "metadata": {},
     "output_type": "execute_result"
    }
   ],
   "source": [
    "#차원이 1인 값을 축소\n",
    "x.view(2, 1, -1).squeeze()"
   ]
  },
  {
   "cell_type": "code",
   "execution_count": 37,
   "id": "0fa9b855",
   "metadata": {},
   "outputs": [
    {
     "data": {
      "text/plain": [
       "tensor([[[ 1.,  2.,  3.,  4.,  5.,  6.]],\n",
       "\n",
       "        [[ 7.,  8.,  9., 10., 11., 12.]]])"
      ]
     },
     "execution_count": 37,
     "metadata": {},
     "output_type": "execute_result"
    }
   ],
   "source": [
    "#dim=1 자리에 차원을 추가\n",
    "x.view(2, 1, -1).squeeze().unsqueeze(dim=1)#sq 차원 1인애 없애라unsq 차원 추가해라"
   ]
  },
  {
   "cell_type": "markdown",
   "id": "bf7ffd04",
   "metadata": {},
   "source": [
    "## Tensor Calculation"
   ]
  },
  {
   "cell_type": "code",
   "execution_count": 38,
   "id": "1dc6b7d2",
   "metadata": {},
   "outputs": [
    {
     "name": "stdout",
     "output_type": "stream",
     "text": [
      "x : tensor([[1., 2., 3.],\n",
      "        [4., 5., 6.]])\n",
      "y : tensor([[1., 1., 1.],\n",
      "        [2., 2., 2.]])\n"
     ]
    }
   ],
   "source": [
    "x = torch.Tensor([[1,2,3],[4,5,6]])\n",
    "y = torch.Tensor([[1,1,1],[2,2,2]])\n",
    "print(\"x :\", x)\n",
    "print(\"y :\", y)"
   ]
  },
  {
   "cell_type": "code",
   "execution_count": 39,
   "id": "8430fa52",
   "metadata": {},
   "outputs": [
    {
     "name": "stdout",
     "output_type": "stream",
     "text": [
      "z : tensor([[2., 3., 4.],\n",
      "        [6., 7., 8.]])\n",
      "x+y : tensor([[2., 3., 4.],\n",
      "        [6., 7., 8.]])\n"
     ]
    }
   ],
   "source": [
    "# x와 y의 합\n",
    "z = torch.add(x, y)\n",
    "print(\"z :\", z)\n",
    "print(\"x+y :\", x+y)"
   ]
  },
  {
   "cell_type": "code",
   "execution_count": 40,
   "id": "58132624",
   "metadata": {},
   "outputs": [
    {
     "name": "stdout",
     "output_type": "stream",
     "text": [
      "tensor([[-1.,  0.,  1.],\n",
      "        [ 2.,  3.,  4.]])\n",
      "tensor([[ 2.,  4.,  6.],\n",
      "        [ 8., 10., 12.]])\n"
     ]
    }
   ],
   "source": [
    "# x의 모든 원소에서 2를 뺌\n",
    "print(x - 2)\n",
    "\n",
    "# x의 모든 원소에 2를 곱함\n",
    "print(2*x)"
   ]
  },
  {
   "cell_type": "code",
   "execution_count": 41,
   "id": "3ffa00c1",
   "metadata": {},
   "outputs": [
    {
     "name": "stdout",
     "output_type": "stream",
     "text": [
      "z : tensor([[ 1.,  2.,  3.],\n",
      "        [ 8., 10., 12.]])\n",
      "x*y : tensor([[ 1.,  2.,  3.],\n",
      "        [ 8., 10., 12.]])\n"
     ]
    }
   ],
   "source": [
    "#x의 원소와 y의 원소를 각각 곱함\n",
    "z = torch.mul(x, y)\n",
    "print(\"z :\", z)\n",
    "print(\"x*y :\", x*y)"
   ]
  },
  {
   "cell_type": "code",
   "execution_count": 42,
   "id": "e01daa1c",
   "metadata": {},
   "outputs": [
    {
     "name": "stdout",
     "output_type": "stream",
     "text": [
      "z : tensor([[ 1.,  4.,  9.],\n",
      "        [16., 25., 36.]])\n",
      "x**2 : tensor([[ 1.,  4.,  9.],\n",
      "        [16., 25., 36.]])\n"
     ]
    }
   ],
   "source": [
    "#x의 원소를 각각 제곱함\n",
    "z = torch.pow(x, 2)\n",
    "print(\"z :\", z)\n",
    "print(\"x**2 :\", x**2)"
   ]
  },
  {
   "cell_type": "code",
   "execution_count": 43,
   "id": "e9ba05fe",
   "metadata": {},
   "outputs": [
    {
     "name": "stdout",
     "output_type": "stream",
     "text": [
      "z : tensor([[0.0000, 0.6931, 1.0986],\n",
      "        [1.3863, 1.6094, 1.7918]])\n",
      "x.log() : tensor([[0.0000, 0.6931, 1.0986],\n",
      "        [1.3863, 1.6094, 1.7918]])\n"
     ]
    }
   ],
   "source": [
    "#x의 원소에 log를 씌움\n",
    "z = torch.log(x)\n",
    "print(\"z :\", z)\n",
    "print(\"x.log() :\", x.log())"
   ]
  },
  {
   "cell_type": "code",
   "execution_count": 44,
   "id": "e7eebded",
   "metadata": {},
   "outputs": [
    {
     "name": "stdout",
     "output_type": "stream",
     "text": [
      "z : tensor([[1.0000, 1.4142, 1.7321],\n",
      "        [2.0000, 2.2361, 2.4495]])\n",
      "x.sqrt() : tensor([[1.0000, 1.4142, 1.7321],\n",
      "        [2.0000, 2.2361, 2.4495]])\n"
     ]
    }
   ],
   "source": [
    "#x의 원소에 루트를 씌움\n",
    "z = torch.sqrt(x)\n",
    "print(\"z :\", z)\n",
    "print(\"x.sqrt() :\", x.sqrt())"
   ]
  },
  {
   "cell_type": "code",
   "execution_count": 45,
   "id": "f5d2bf44",
   "metadata": {},
   "outputs": [
    {
     "name": "stdout",
     "output_type": "stream",
     "text": [
      "tensor([[1., 0., 1.],\n",
      "        [0., 1., 0.]])\n"
     ]
    }
   ],
   "source": [
    "#x의 원소에 나머지(mod) 계산\n",
    "z = x % 2\n",
    "print(z)"
   ]
  },
  {
   "cell_type": "code",
   "execution_count": 46,
   "id": "69f96940",
   "metadata": {
    "scrolled": true
   },
   "outputs": [
    {
     "name": "stdout",
     "output_type": "stream",
     "text": [
      "z : tensor([[1., 2., 3.],\n",
      "        [4., 5., 6.]])\n",
      "x.abs() : tensor([[1., 2., 3.],\n",
      "        [4., 5., 6.]])\n"
     ]
    }
   ],
   "source": [
    "#x에 절댓값\n",
    "z = torch.abs(x)\n",
    "print(\"z :\", z)\n",
    "print(\"x.abs() :\", x.abs())"
   ]
  },
  {
   "cell_type": "markdown",
   "id": "a297e681",
   "metadata": {},
   "source": [
    "numpy와 비슷한 문법을 사용함."
   ]
  }
 ],
 "metadata": {
  "kernelspec": {
   "display_name": "Python 3",
   "language": "python",
   "name": "python3"
  },
  "language_info": {
   "codemirror_mode": {
    "name": "ipython",
    "version": 3
   },
   "file_extension": ".py",
   "mimetype": "text/x-python",
   "name": "python",
   "nbconvert_exporter": "python",
   "pygments_lexer": "ipython3",
   "version": "3.8.8"
  }
 },
 "nbformat": 4,
 "nbformat_minor": 5
}
